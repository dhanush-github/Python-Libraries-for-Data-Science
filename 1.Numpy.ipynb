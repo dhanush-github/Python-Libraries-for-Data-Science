{
  "cells": [
    {
      "cell_type": "markdown",
      "metadata": {
        "id": "3oytwJMBME_l"
      },
      "source": [
        "# NumPy"
      ]
    },
    {
      "cell_type": "markdown",
      "metadata": {
        "id": "nXRosf1JME_m"
      },
      "source": [
        "- N dimensional arrays (one dimensional vector , two dimensional matrix ...)\n",
        "- Random number capabilities\n",
        "- Built in statistical distributions"
      ]
    },
    {
      "cell_type": "markdown",
      "metadata": {
        "id": "y2WOW8j3ME_m"
      },
      "source": [
        "## Creating NumPy Array"
      ]
    },
    {
      "cell_type": "code",
      "execution_count": null,
      "metadata": {
        "id": "L3TGAIMXME_n"
      },
      "outputs": [],
      "source": [
        "import numpy as np"
      ]
    },
    {
      "cell_type": "code",
      "execution_count": null,
      "metadata": {
        "id": "jx6QnXrxME_o"
      },
      "outputs": [],
      "source": [
        "a = [1,2,3]"
      ]
    },
    {
      "cell_type": "code",
      "execution_count": null,
      "metadata": {
        "colab": {
          "base_uri": "https://localhost:8080/"
        },
        "id": "hsfJytNFME_o",
        "outputId": "c1be3427-6488-4da5-c3ff-0d3c423724ad"
      },
      "outputs": [
        {
          "output_type": "execute_result",
          "data": {
            "text/plain": [
              "list"
            ]
          },
          "metadata": {},
          "execution_count": 3
        }
      ],
      "source": [
        "type(a)"
      ]
    },
    {
      "cell_type": "code",
      "execution_count": null,
      "metadata": {
        "colab": {
          "base_uri": "https://localhost:8080/"
        },
        "id": "boPpY-XhME_p",
        "outputId": "6489a589-a56f-4504-d1c6-121925a5b735"
      },
      "outputs": [
        {
          "output_type": "execute_result",
          "data": {
            "text/plain": [
              "array([1, 2, 3])"
            ]
          },
          "metadata": {},
          "execution_count": 4
        }
      ],
      "source": [
        "b = np.array(a)\n",
        "b"
      ]
    },
    {
      "cell_type": "code",
      "execution_count": null,
      "metadata": {
        "colab": {
          "base_uri": "https://localhost:8080/"
        },
        "id": "8ufFdCokME_p",
        "outputId": "86de118d-707c-421b-a895-a7460bd5552a"
      },
      "outputs": [
        {
          "output_type": "execute_result",
          "data": {
            "text/plain": [
              "numpy.ndarray"
            ]
          },
          "metadata": {},
          "execution_count": 5
        }
      ],
      "source": [
        "type(b)"
      ]
    },
    {
      "cell_type": "code",
      "execution_count": null,
      "metadata": {
        "colab": {
          "base_uri": "https://localhost:8080/"
        },
        "id": "535_npb2ME_q",
        "outputId": "8ac617fa-2839-4f83-e1fb-38f2cf92265f"
      },
      "outputs": [
        {
          "output_type": "execute_result",
          "data": {
            "text/plain": [
              "array([1, 2, 3])"
            ]
          },
          "metadata": {},
          "execution_count": 6
        }
      ],
      "source": [
        "b"
      ]
    },
    {
      "cell_type": "code",
      "execution_count": null,
      "metadata": {
        "scrolled": true,
        "colab": {
          "base_uri": "https://localhost:8080/"
        },
        "id": "jS9Y1H4tME_q",
        "outputId": "632963b8-ae99-4cad-c99a-3b852a87e56e"
      },
      "outputs": [
        {
          "output_type": "execute_result",
          "data": {
            "text/plain": [
              "array([0, 1, 2, 3, 4, 5, 6, 7, 8, 9])"
            ]
          },
          "metadata": {},
          "execution_count": 7
        }
      ],
      "source": [
        "np.array(range(0,10))   # Remember we used the range() method earlier"
      ]
    },
    {
      "cell_type": "code",
      "execution_count": null,
      "metadata": {
        "colab": {
          "base_uri": "https://localhost:8080/"
        },
        "id": "AG6vweWgME_r",
        "outputId": "2f40b696-36b7-427d-f43d-9c7346522b15"
      },
      "outputs": [
        {
          "output_type": "execute_result",
          "data": {
            "text/plain": [
              "array([0, 1, 2, 3, 4, 5, 6, 7, 8, 9])"
            ]
          },
          "metadata": {},
          "execution_count": 8
        }
      ],
      "source": [
        "np.arange(0,10)  # arange() is a function in numpy to create an array"
      ]
    },
    {
      "cell_type": "code",
      "execution_count": null,
      "metadata": {
        "colab": {
          "base_uri": "https://localhost:8080/"
        },
        "id": "6d8AdgvSME_r",
        "outputId": "b4709324-7d49-464a-ce90-a353263579fe"
      },
      "outputs": [
        {
          "output_type": "execute_result",
          "data": {
            "text/plain": [
              "array([0., 1., 2., 3., 4., 5.])"
            ]
          },
          "metadata": {},
          "execution_count": 9
        }
      ],
      "source": [
        "np.linspace(0,5,6)  #equally spaced from 0 to 5 included 6 numbers(float)"
      ]
    },
    {
      "cell_type": "code",
      "execution_count": null,
      "metadata": {
        "colab": {
          "base_uri": "https://localhost:8080/"
        },
        "id": "CYeoY3j2ME_s",
        "outputId": "9854a644-c731-4b88-8dcf-97ca6919a496"
      },
      "outputs": [
        {
          "output_type": "execute_result",
          "data": {
            "text/plain": [
              "array([0. , 0.1, 0.2, 0.3, 0.4, 0.5, 0.6, 0.7, 0.8, 0.9, 1. , 1.1, 1.2,\n",
              "       1.3, 1.4, 1.5, 1.6, 1.7, 1.8, 1.9, 2. , 2.1, 2.2, 2.3, 2.4, 2.5,\n",
              "       2.6, 2.7, 2.8, 2.9, 3. ])"
            ]
          },
          "metadata": {},
          "execution_count": 10
        }
      ],
      "source": [
        "np.linspace(0, 3, 31)"
      ]
    },
    {
      "cell_type": "code",
      "execution_count": null,
      "metadata": {
        "id": "5AA58bc3ME_s"
      },
      "outputs": [],
      "source": [
        "c = [[1, 2, 3], [10, 20, 30]]  # Let's make a two dimensional array"
      ]
    },
    {
      "cell_type": "code",
      "execution_count": null,
      "metadata": {
        "colab": {
          "base_uri": "https://localhost:8080/"
        },
        "id": "YAY0akxEME_s",
        "outputId": "a64a7509-921d-4b5b-dfad-bad193696649"
      },
      "outputs": [
        {
          "output_type": "execute_result",
          "data": {
            "text/plain": [
              "array([[ 1,  2,  3],\n",
              "       [10, 20, 30]])"
            ]
          },
          "metadata": {},
          "execution_count": 12
        }
      ],
      "source": [
        "np.array(c)"
      ]
    },
    {
      "cell_type": "code",
      "execution_count": null,
      "metadata": {
        "colab": {
          "base_uri": "https://localhost:8080/"
        },
        "id": "zm6nrkMUME_t",
        "outputId": "2e48825e-67d7-4da2-b6bf-8c16c7dd03fc"
      },
      "outputs": [
        {
          "output_type": "execute_result",
          "data": {
            "text/plain": [
              "array([0., 0., 0., 0., 0.])"
            ]
          },
          "metadata": {},
          "execution_count": 13
        }
      ],
      "source": [
        "np.zeros(5)"
      ]
    },
    {
      "cell_type": "code",
      "execution_count": null,
      "metadata": {
        "scrolled": false,
        "colab": {
          "base_uri": "https://localhost:8080/"
        },
        "id": "32Ysy5ofME_t",
        "outputId": "da2caa8f-45f3-4769-cf75-2e48e589b292"
      },
      "outputs": [
        {
          "output_type": "execute_result",
          "data": {
            "text/plain": [
              "array([[0., 0., 0., 0.],\n",
              "       [0., 0., 0., 0.],\n",
              "       [0., 0., 0., 0.]])"
            ]
          },
          "metadata": {},
          "execution_count": 14
        }
      ],
      "source": [
        "np.zeros((3,4))    # For multidimesional argument, use tuple"
      ]
    },
    {
      "cell_type": "code",
      "execution_count": null,
      "metadata": {
        "scrolled": true,
        "colab": {
          "base_uri": "https://localhost:8080/"
        },
        "id": "y2kO3_gkME_t",
        "outputId": "a63c4eaf-1833-4a93-eee9-ae8ff5a62f65"
      },
      "outputs": [
        {
          "output_type": "execute_result",
          "data": {
            "text/plain": [
              "array([[1., 1., 1., 1.],\n",
              "       [1., 1., 1., 1.],\n",
              "       [1., 1., 1., 1.]])"
            ]
          },
          "metadata": {},
          "execution_count": 15
        }
      ],
      "source": [
        "np.ones((3,4))"
      ]
    },
    {
      "cell_type": "code",
      "execution_count": null,
      "metadata": {
        "scrolled": true,
        "colab": {
          "base_uri": "https://localhost:8080/"
        },
        "id": "jlDrPx94ME_u",
        "outputId": "bdab1c6f-14cb-4c6f-ca98-d6cf618c2595"
      },
      "outputs": [
        {
          "output_type": "stream",
          "name": "stdout",
          "text": [
            "[ 0.  1.  2.  3.  4.  5.  6.  7.  8.  9. 10. 11. 12. 13. 14. 15. 16. 17.\n",
            " 18. 19. 20. 21. 22. 23. 24. 25. 26. 27. 28. 29.]\n"
          ]
        }
      ],
      "source": [
        "first_thirty = np.linspace(0, 29, 30)\n",
        "print(first_thirty)"
      ]
    },
    {
      "cell_type": "code",
      "execution_count": null,
      "metadata": {
        "colab": {
          "base_uri": "https://localhost:8080/"
        },
        "id": "xFAZNrGBME_u",
        "outputId": "c40c7ffd-c525-49b6-f68b-3e1ee3e68980"
      },
      "outputs": [
        {
          "output_type": "execute_result",
          "data": {
            "text/plain": [
              "(30,)"
            ]
          },
          "metadata": {},
          "execution_count": 17
        }
      ],
      "source": [
        "first_thirty.shape"
      ]
    },
    {
      "cell_type": "code",
      "execution_count": null,
      "metadata": {
        "scrolled": true,
        "colab": {
          "base_uri": "https://localhost:8080/"
        },
        "id": "bkAQhOH3ME_v",
        "outputId": "bb15c866-6ca9-4088-d706-84ef82111df6"
      },
      "outputs": [
        {
          "output_type": "execute_result",
          "data": {
            "text/plain": [
              "array([[ 0.,  1.,  2.,  3.,  4.,  5.,  6.,  7.,  8.,  9.],\n",
              "       [10., 11., 12., 13., 14., 15., 16., 17., 18., 19.],\n",
              "       [20., 21., 22., 23., 24., 25., 26., 27., 28., 29.]])"
            ]
          },
          "metadata": {},
          "execution_count": 18
        }
      ],
      "source": [
        "first_thirty.reshape(3,10)"
      ]
    },
    {
      "cell_type": "markdown",
      "metadata": {
        "id": "40cQAvhBME_v"
      },
      "source": [
        "## Selecting from Numpy Array"
      ]
    },
    {
      "cell_type": "code",
      "execution_count": null,
      "metadata": {
        "id": "NAK8DoI0ME_v"
      },
      "outputs": [],
      "source": [
        "import numpy as np"
      ]
    },
    {
      "cell_type": "code",
      "execution_count": null,
      "metadata": {
        "scrolled": true,
        "colab": {
          "base_uri": "https://localhost:8080/"
        },
        "id": "nLt8LZsXME_v",
        "outputId": "25245a19-0700-48e5-a6cf-d71218deec16"
      },
      "outputs": [
        {
          "output_type": "stream",
          "name": "stdout",
          "text": [
            "[0 1 2 3 4 5 6 7 8 9]\n"
          ]
        }
      ],
      "source": [
        "first_ten = np.arange(0,10)\n",
        "print(first_ten)"
      ]
    },
    {
      "cell_type": "code",
      "execution_count": null,
      "metadata": {
        "scrolled": true,
        "colab": {
          "base_uri": "https://localhost:8080/"
        },
        "id": "AeD5kWk_ME_w",
        "outputId": "c3a42cbc-d612-4181-87a9-bd0ef032a47c"
      },
      "outputs": [
        {
          "output_type": "execute_result",
          "data": {
            "text/plain": [
              "3"
            ]
          },
          "metadata": {},
          "execution_count": 21
        }
      ],
      "source": [
        "first_ten[3]"
      ]
    },
    {
      "cell_type": "code",
      "execution_count": null,
      "metadata": {
        "scrolled": true,
        "colab": {
          "base_uri": "https://localhost:8080/"
        },
        "id": "uFqW_OioME_w",
        "outputId": "200de4aa-8af3-440d-b249-1f96db457a71"
      },
      "outputs": [
        {
          "output_type": "execute_result",
          "data": {
            "text/plain": [
              "array([3, 4])"
            ]
          },
          "metadata": {},
          "execution_count": 22
        }
      ],
      "source": [
        "first_ten[3:5]   #starting from index 3 (including) to index 5 (excluding)"
      ]
    },
    {
      "cell_type": "code",
      "execution_count": null,
      "metadata": {
        "scrolled": true,
        "colab": {
          "base_uri": "https://localhost:8080/"
        },
        "id": "o30cAs7zME_x",
        "outputId": "e44091ce-d293-4367-db0e-baa559b26312"
      },
      "outputs": [
        {
          "output_type": "execute_result",
          "data": {
            "text/plain": [
              "array([0, 1])"
            ]
          },
          "metadata": {},
          "execution_count": 23
        }
      ],
      "source": [
        "first_ten[:2]    # starting from the begining, to index 2 (excluding)"
      ]
    },
    {
      "cell_type": "code",
      "execution_count": null,
      "metadata": {
        "scrolled": true,
        "colab": {
          "base_uri": "https://localhost:8080/"
        },
        "id": "Ty8Y2JNaME_x",
        "outputId": "7b0a7351-8998-49dc-be22-1b5c0f9308ac"
      },
      "outputs": [
        {
          "output_type": "execute_result",
          "data": {
            "text/plain": [
              "array([6, 7, 8, 9])"
            ]
          },
          "metadata": {},
          "execution_count": 24
        }
      ],
      "source": [
        "first_ten[6:]     # starting from 6 (including) to end"
      ]
    },
    {
      "cell_type": "code",
      "execution_count": null,
      "metadata": {
        "scrolled": true,
        "colab": {
          "base_uri": "https://localhost:8080/"
        },
        "id": "pVN1Q-8HME_x",
        "outputId": "31b27a27-a5ee-4b65-9783-550ac179115a"
      },
      "outputs": [
        {
          "output_type": "stream",
          "name": "stdout",
          "text": [
            "[[ 0.  1.  2.  3.  4.  5.  6.  7.  8.  9.]\n",
            " [10. 11. 12. 13. 14. 15. 16. 17. 18. 19.]\n",
            " [20. 21. 22. 23. 24. 25. 26. 27. 28. 29.]]\n",
            "(3, 10)\n"
          ]
        }
      ],
      "source": [
        "first_thirty = np.linspace(0, 29, 30)\n",
        "three_by_ten = first_thirty.reshape(3,10)\n",
        "print(three_by_ten)\n",
        "print(three_by_ten.shape)"
      ]
    },
    {
      "cell_type": "code",
      "execution_count": null,
      "metadata": {
        "scrolled": true,
        "colab": {
          "base_uri": "https://localhost:8080/"
        },
        "id": "BcFVObYAME_y",
        "outputId": "1ad03990-c898-4fb2-dbae-3c6803eab778"
      },
      "outputs": [
        {
          "output_type": "execute_result",
          "data": {
            "text/plain": [
              "array([10., 11., 12., 13., 14., 15., 16., 17., 18., 19.])"
            ]
          },
          "metadata": {},
          "execution_count": 26
        }
      ],
      "source": [
        "three_by_ten[1]"
      ]
    },
    {
      "cell_type": "code",
      "execution_count": null,
      "metadata": {
        "scrolled": true,
        "colab": {
          "base_uri": "https://localhost:8080/"
        },
        "id": "RaDz1MJQME_y",
        "outputId": "b7e31e96-9729-464e-b44f-8f3719b8645c"
      },
      "outputs": [
        {
          "output_type": "execute_result",
          "data": {
            "text/plain": [
              "15.0"
            ]
          },
          "metadata": {},
          "execution_count": 27
        }
      ],
      "source": [
        "three_by_ten[1,5]"
      ]
    },
    {
      "cell_type": "code",
      "execution_count": null,
      "metadata": {
        "scrolled": false,
        "colab": {
          "base_uri": "https://localhost:8080/"
        },
        "id": "hg-TIianME_y",
        "outputId": "91784ef4-cea8-413f-a743-95d8613488e4"
      },
      "outputs": [
        {
          "output_type": "execute_result",
          "data": {
            "text/plain": [
              "array([[ 1.,  2.],\n",
              "       [11., 12.]])"
            ]
          },
          "metadata": {},
          "execution_count": 28
        }
      ],
      "source": [
        "three_by_ten[0:2, 1:3]"
      ]
    },
    {
      "cell_type": "code",
      "execution_count": null,
      "metadata": {
        "scrolled": true,
        "colab": {
          "base_uri": "https://localhost:8080/"
        },
        "id": "OwBt4ERcME_z",
        "outputId": "37a6eb11-e218-459b-8850-885abe8874ba"
      },
      "outputs": [
        {
          "output_type": "stream",
          "name": "stdout",
          "text": [
            "[  0  10  20  30  40  50  60  70  80  90 100]\n"
          ]
        }
      ],
      "source": [
        "tens = np.arange(0,101,10)  # From 0(included) t0 101(excluded) in steps of 10\n",
        "print(tens)"
      ]
    },
    {
      "cell_type": "code",
      "execution_count": null,
      "metadata": {
        "scrolled": true,
        "colab": {
          "base_uri": "https://localhost:8080/"
        },
        "id": "GvWB5dkHME_z",
        "outputId": "0fe5bc8f-956d-4c9c-d99a-35181f40e376"
      },
      "outputs": [
        {
          "output_type": "execute_result",
          "data": {
            "text/plain": [
              "array([False, False, False, False, False, False,  True,  True,  True,\n",
              "        True,  True])"
            ]
          },
          "metadata": {},
          "execution_count": 30
        }
      ],
      "source": [
        "tens >= 60"
      ]
    },
    {
      "cell_type": "code",
      "execution_count": null,
      "metadata": {
        "scrolled": true,
        "colab": {
          "base_uri": "https://localhost:8080/"
        },
        "id": "G7AqshOQME_z",
        "outputId": "c920ff2c-1b87-42cf-94d4-72cb800690f9"
      },
      "outputs": [
        {
          "output_type": "execute_result",
          "data": {
            "text/plain": [
              "array([ 60,  70,  80,  90, 100])"
            ]
          },
          "metadata": {},
          "execution_count": 31
        }
      ],
      "source": [
        "tens[6:]"
      ]
    },
    {
      "cell_type": "code",
      "execution_count": null,
      "metadata": {
        "colab": {
          "base_uri": "https://localhost:8080/"
        },
        "id": "km9oSXTKME_0",
        "outputId": "e36974b8-b7df-43b3-dfdd-ac2029b1bee6"
      },
      "outputs": [
        {
          "output_type": "execute_result",
          "data": {
            "text/plain": [
              "array([ 60,  70,  80,  90, 100])"
            ]
          },
          "metadata": {},
          "execution_count": 32
        }
      ],
      "source": [
        "tens[tens >= 60]"
      ]
    },
    {
      "cell_type": "markdown",
      "metadata": {
        "id": "SDXeKphvME_0"
      },
      "source": [
        "## Operations"
      ]
    },
    {
      "cell_type": "code",
      "execution_count": null,
      "metadata": {
        "id": "XUAOIg0ZME_0"
      },
      "outputs": [],
      "source": [
        "import numpy as np"
      ]
    },
    {
      "cell_type": "code",
      "execution_count": null,
      "metadata": {
        "scrolled": false,
        "colab": {
          "base_uri": "https://localhost:8080/"
        },
        "id": "ZTqVTIiiME_9",
        "outputId": "8a38a595-e665-4959-dfdc-5881af08d31c"
      },
      "outputs": [
        {
          "output_type": "stream",
          "name": "stdout",
          "text": [
            "[0 1 2 3 4 5 6 7 8 9]\n"
          ]
        }
      ],
      "source": [
        "first_ten = np.arange(0,10)\n",
        "print(first_ten)"
      ]
    },
    {
      "cell_type": "code",
      "execution_count": null,
      "metadata": {
        "colab": {
          "base_uri": "https://localhost:8080/"
        },
        "id": "Q88U2K64ME_-",
        "outputId": "4d4544fc-57f7-4cb6-ed25-8707e1a6391a"
      },
      "outputs": [
        {
          "output_type": "execute_result",
          "data": {
            "text/plain": [
              "array([10, 11, 12, 13, 14, 15, 16, 17, 18, 19])"
            ]
          },
          "metadata": {},
          "execution_count": 35
        }
      ],
      "source": [
        "first_ten + 10"
      ]
    },
    {
      "cell_type": "code",
      "execution_count": null,
      "metadata": {
        "scrolled": true,
        "colab": {
          "base_uri": "https://localhost:8080/"
        },
        "id": "BPMmf_tyME_-",
        "outputId": "349b081a-09bc-4933-b021-eb210867c47e"
      },
      "outputs": [
        {
          "output_type": "execute_result",
          "data": {
            "text/plain": [
              "array([-10,  -9,  -8,  -7,  -6,  -5,  -4,  -3,  -2,  -1])"
            ]
          },
          "metadata": {},
          "execution_count": 36
        }
      ],
      "source": [
        "first_ten - 10"
      ]
    },
    {
      "cell_type": "code",
      "execution_count": null,
      "metadata": {
        "colab": {
          "base_uri": "https://localhost:8080/"
        },
        "id": "zcxad8DDME__",
        "outputId": "8d9dbfea-ce82-4832-a819-e6df8b643a0e"
      },
      "outputs": [
        {
          "output_type": "execute_result",
          "data": {
            "text/plain": [
              "array([ 0,  2,  4,  6,  8, 10, 12, 14, 16, 18])"
            ]
          },
          "metadata": {},
          "execution_count": 37
        }
      ],
      "source": [
        "first_ten + first_ten"
      ]
    },
    {
      "cell_type": "code",
      "execution_count": null,
      "metadata": {
        "scrolled": false,
        "colab": {
          "base_uri": "https://localhost:8080/"
        },
        "id": "qKWe_SZkME__",
        "outputId": "e0648172-203b-4054-ccda-9bdc055139bb"
      },
      "outputs": [
        {
          "output_type": "execute_result",
          "data": {
            "text/plain": [
              "array([ 0,  1,  4,  9, 16, 25, 36, 49, 64, 81])"
            ]
          },
          "metadata": {},
          "execution_count": 38
        }
      ],
      "source": [
        "first_ten * first_ten"
      ]
    },
    {
      "cell_type": "code",
      "execution_count": null,
      "metadata": {
        "id": "SACx7AHPME__"
      },
      "outputs": [],
      "source": [
        "# [1,2,3,4] + 10   # The same thing (broadcasting) does not work on a list"
      ]
    },
    {
      "cell_type": "markdown",
      "metadata": {
        "id": "DjbGlO2rMFAA"
      },
      "source": [
        "## Changing Array Elements"
      ]
    },
    {
      "cell_type": "code",
      "execution_count": null,
      "metadata": {
        "scrolled": true,
        "colab": {
          "base_uri": "https://localhost:8080/"
        },
        "id": "3YmSZWdFMFAA",
        "outputId": "da92a072-e62e-4d0e-eb05-ba4176da4615"
      },
      "outputs": [
        {
          "output_type": "stream",
          "name": "stdout",
          "text": [
            "[0 1 2 3 4 5 6 7 8 9]\n"
          ]
        }
      ],
      "source": [
        "first_ten = np.arange(0,10)\n",
        "print(first_ten)"
      ]
    },
    {
      "cell_type": "code",
      "execution_count": null,
      "metadata": {
        "id": "nXf_EhdFMFAA"
      },
      "outputs": [],
      "source": [
        "first_ten[0] = 10"
      ]
    },
    {
      "cell_type": "code",
      "execution_count": null,
      "metadata": {
        "scrolled": true,
        "colab": {
          "base_uri": "https://localhost:8080/"
        },
        "id": "r1SzKiSXMFAA",
        "outputId": "0e995a28-ad93-4656-d28a-8720f6281704"
      },
      "outputs": [
        {
          "output_type": "execute_result",
          "data": {
            "text/plain": [
              "array([10,  1,  2,  3,  4,  5,  6,  7,  8,  9])"
            ]
          },
          "metadata": {},
          "execution_count": 42
        }
      ],
      "source": [
        "first_ten"
      ]
    },
    {
      "cell_type": "code",
      "execution_count": null,
      "metadata": {
        "colab": {
          "base_uri": "https://localhost:8080/"
        },
        "id": "xuf-VWm2MFAB",
        "outputId": "1d0da315-6147-4f99-ac58-890334867b42"
      },
      "outputs": [
        {
          "output_type": "execute_result",
          "data": {
            "text/plain": [
              "array([10, 10, 10, 10, 10, 10, 10, 10, 10, 10])"
            ]
          },
          "metadata": {},
          "execution_count": 43
        }
      ],
      "source": [
        "first_ten[:] = 10   # lets set all elements in this array to 10 ... Number 10 has been broadcasted to all elements\n",
        "first_ten"
      ]
    },
    {
      "cell_type": "code",
      "execution_count": null,
      "metadata": {
        "colab": {
          "base_uri": "https://localhost:8080/"
        },
        "id": "Dv51vosLMFAB",
        "outputId": "9efa63e6-c90d-42c5-ef80-8eba18d8a8af"
      },
      "outputs": [
        {
          "output_type": "stream",
          "name": "stdout",
          "text": [
            "[0 1 2 3 4 5 6 7 8 9]\n",
            "[0 1 2 3 4]\n"
          ]
        }
      ],
      "source": [
        "first_ten = np.arange(0,10)\n",
        "print(first_ten)\n",
        "first_five = first_ten[0:5]\n",
        "print(first_five)"
      ]
    },
    {
      "cell_type": "code",
      "execution_count": null,
      "metadata": {
        "colab": {
          "base_uri": "https://localhost:8080/"
        },
        "id": "AXYUmpJqMFAB",
        "outputId": "bdd8ee3c-841e-4d93-ff0a-2810e513ff19"
      },
      "outputs": [
        {
          "output_type": "execute_result",
          "data": {
            "text/plain": [
              "array([0, 0, 0, 0, 0])"
            ]
          },
          "metadata": {},
          "execution_count": 45
        }
      ],
      "source": [
        "first_five[:] = 0\n",
        "first_five"
      ]
    },
    {
      "cell_type": "code",
      "execution_count": null,
      "metadata": {
        "colab": {
          "base_uri": "https://localhost:8080/"
        },
        "id": "FD4sX2c-MFAC",
        "outputId": "b1c03fef-91e0-4bcc-95ad-67a39d777f1b"
      },
      "outputs": [
        {
          "output_type": "stream",
          "name": "stdout",
          "text": [
            "[0 0 0 0 0 5 6 7 8 9]\n"
          ]
        }
      ],
      "source": [
        "print(first_ten)   # first_five was pointing to the values in first_ten. Any change in it affected the parent array as well."
      ]
    },
    {
      "cell_type": "markdown",
      "metadata": {
        "id": "62FL102nMFAC"
      },
      "source": [
        "# Basic Probability Theory"
      ]
    },
    {
      "cell_type": "markdown",
      "metadata": {
        "id": "NTP42Iy0MFAC"
      },
      "source": [
        "## Random Numbers"
      ]
    },
    {
      "cell_type": "code",
      "execution_count": null,
      "metadata": {
        "colab": {
          "base_uri": "https://localhost:8080/"
        },
        "id": "Wjk9uit-MFAD",
        "outputId": "360834cc-b040-4797-aaf0-e0e453abb7fd"
      },
      "outputs": [
        {
          "output_type": "execute_result",
          "data": {
            "text/plain": [
              "0.9220922215701283"
            ]
          },
          "metadata": {},
          "execution_count": 47
        }
      ],
      "source": [
        "import numpy as np  # Each time you use np.random.rand() function you get a random number between 0 and 1\n",
        "np.random.rand()"
      ]
    },
    {
      "cell_type": "code",
      "execution_count": null,
      "metadata": {
        "scrolled": true,
        "colab": {
          "base_uri": "https://localhost:8080/"
        },
        "id": "DNAdAoUtMFAD",
        "outputId": "93971d19-f5a7-4fbc-b028-adbace7a2b51"
      },
      "outputs": [
        {
          "output_type": "execute_result",
          "data": {
            "text/plain": [
              "0.7178340874802498"
            ]
          },
          "metadata": {},
          "execution_count": 48
        }
      ],
      "source": [
        "np.random.seed(555)    #By setting a seed, you can be assured that you get the same random number each time.\n",
        "np.random.rand()"
      ]
    },
    {
      "cell_type": "code",
      "execution_count": null,
      "metadata": {
        "colab": {
          "base_uri": "https://localhost:8080/"
        },
        "id": "Fdc445eIMFAD",
        "outputId": "d0cdaccf-16ff-4a34-b63a-60f17854596b"
      },
      "outputs": [
        {
          "output_type": "execute_result",
          "data": {
            "text/plain": [
              "array([0.04785513, 0.94447198, 0.68638004, 0.58120733, 0.14267862])"
            ]
          },
          "metadata": {},
          "execution_count": 49
        }
      ],
      "source": [
        "np.random.rand(5)  # Five random numbers in an array"
      ]
    },
    {
      "cell_type": "code",
      "execution_count": null,
      "metadata": {
        "scrolled": true,
        "colab": {
          "base_uri": "https://localhost:8080/"
        },
        "id": "O_NJ_ZWKMFAD",
        "outputId": "93bd57d2-5654-44fe-8788-7e6c3ce4ed0c"
      },
      "outputs": [
        {
          "output_type": "execute_result",
          "data": {
            "text/plain": [
              "array([ True, False,  True, False, False])"
            ]
          },
          "metadata": {},
          "execution_count": 50
        }
      ],
      "source": [
        "np.random.rand(5) > 0.50   # Flipping a coin ... True= Head"
      ]
    },
    {
      "cell_type": "code",
      "execution_count": null,
      "metadata": {
        "colab": {
          "base_uri": "https://localhost:8080/"
        },
        "id": "vWMIilteMFAE",
        "outputId": "7f649885-079f-4f7e-da13-6302b9206cc6"
      },
      "outputs": [
        {
          "output_type": "execute_result",
          "data": {
            "text/plain": [
              "3"
            ]
          },
          "metadata": {},
          "execution_count": 51
        }
      ],
      "source": [
        "sum(np.random.rand(5) > 0.50) # Count of heads when flipping 5 coins"
      ]
    },
    {
      "cell_type": "code",
      "execution_count": null,
      "metadata": {
        "colab": {
          "base_uri": "https://localhost:8080/"
        },
        "id": "GRpbIpRnMFAE",
        "outputId": "6f0bb582-ff7e-4b13-bdf7-7647e1a7b767"
      },
      "outputs": [
        {
          "output_type": "execute_result",
          "data": {
            "text/plain": [
              "array([[0.04119477, 0.46816625, 0.88874673, 0.47625856, 0.41248898],\n",
              "       [0.61610654, 0.32141655, 0.58086926, 0.39661405, 0.02009137]])"
            ]
          },
          "metadata": {},
          "execution_count": 52
        }
      ],
      "source": [
        "np.random.rand(2,5)"
      ]
    },
    {
      "cell_type": "code",
      "execution_count": null,
      "metadata": {
        "scrolled": true,
        "colab": {
          "base_uri": "https://localhost:8080/"
        },
        "id": "xGleZa11MFAE",
        "outputId": "4dd966ee-393b-4690-8c23-30bfd49961ea"
      },
      "outputs": [
        {
          "output_type": "execute_result",
          "data": {
            "text/plain": [
              "array([1, 0, 0, 1, 0, 1, 0, 0, 1, 0])"
            ]
          },
          "metadata": {},
          "execution_count": 53
        }
      ],
      "source": [
        "np.random.randint(0,2,10)  #Flipping 10 coins"
      ]
    },
    {
      "cell_type": "code",
      "execution_count": null,
      "metadata": {
        "scrolled": true,
        "colab": {
          "base_uri": "https://localhost:8080/"
        },
        "id": "o__kARQmMFAF",
        "outputId": "52a38b19-a464-4c1c-f359-51dd4a312d57"
      },
      "outputs": [
        {
          "output_type": "execute_result",
          "data": {
            "text/plain": [
              "5"
            ]
          },
          "metadata": {},
          "execution_count": 54
        }
      ],
      "source": [
        "sum(np.random.randint(0,2,10))    # Count the number of head when flipping 10 coins"
      ]
    },
    {
      "cell_type": "code",
      "execution_count": null,
      "metadata": {
        "scrolled": false,
        "colab": {
          "base_uri": "https://localhost:8080/"
        },
        "id": "LL3yC0GpMFAF",
        "outputId": "642c97f0-cd57-46cf-df5c-53623870e243"
      },
      "outputs": [
        {
          "output_type": "execute_result",
          "data": {
            "text/plain": [
              "array([1, 1, 1, 6, 3, 6, 2, 2, 6, 1])"
            ]
          },
          "metadata": {},
          "execution_count": 55
        }
      ],
      "source": [
        "np.random.randint(1,7, 10)  #Roll a die 10 times"
      ]
    },
    {
      "cell_type": "code",
      "execution_count": null,
      "metadata": {
        "scrolled": false,
        "colab": {
          "base_uri": "https://localhost:8080/",
          "height": 434
        },
        "id": "-kZr_BjSMFAF",
        "outputId": "15e3a86d-bea5-4b98-cde9-087b6536300e"
      },
      "outputs": [
        {
          "output_type": "display_data",
          "data": {
            "text/plain": [
              "<Figure size 640x480 with 1 Axes>"
            ],
            "image/png": "[encoded data removed]"
          },
          "metadata": {}
        }
      ],
      "source": [
        "import matplotlib.pyplot as plt\n",
        "import seaborn as sns\n",
        "sns.set_theme(style=\"whitegrid\")\n",
        "# np.random.seed(555)       # By using seed you can make sure that each time you get the same numbers\n",
        "a = np.random.randint(1,7, 6000)\n",
        "sns.countplot(x=a)\n",
        "plt.show()"
      ]
    },
    {
      "cell_type": "markdown",
      "metadata": {
        "id": "pdQ9kzl1MFAF"
      },
      "source": [
        "# A sample probability question"
      ]
    },
    {
      "cell_type": "markdown",
      "metadata": {
        "id": "GwUorzhBMFAG"
      },
      "source": [
        "If two dice are rolled, what is the probability of getting the sum of numbers greater than 7?\n",
        "Ans: 15/36 = 0.4166"
      ]
    },
    {
      "cell_type": "code",
      "execution_count": null,
      "metadata": {
        "id": "QR-qK9X6MFAG"
      },
      "outputs": [],
      "source": [
        "die1 = np.random.randint(1,7, 10)\n",
        "die2 = np.random.randint(1,7, 10)"
      ]
    },
    {
      "cell_type": "code",
      "execution_count": null,
      "metadata": {
        "id": "SknBGF0-MFAG"
      },
      "outputs": [],
      "source": [
        "die_sum = die1 + die2"
      ]
    },
    {
      "cell_type": "code",
      "execution_count": null,
      "metadata": {
        "colab": {
          "base_uri": "https://localhost:8080/"
        },
        "id": "ctME3D6sMFAG",
        "outputId": "942cdb30-8d47-4ed2-ed30-8ed495012b63"
      },
      "outputs": [
        {
          "output_type": "execute_result",
          "data": {
            "text/plain": [
              "array([ 6,  8, 12,  5,  9,  9,  3, 12,  7, 10])"
            ]
          },
          "metadata": {},
          "execution_count": 59
        }
      ],
      "source": [
        "die_sum"
      ]
    },
    {
      "cell_type": "code",
      "execution_count": null,
      "metadata": {
        "colab": {
          "base_uri": "https://localhost:8080/"
        },
        "id": "RI4RaAzsMFAH",
        "outputId": "d301b12d-3959-45c7-fc60-1383f605b3e1"
      },
      "outputs": [
        {
          "output_type": "execute_result",
          "data": {
            "text/plain": [
              "416741"
            ]
          },
          "metadata": {},
          "execution_count": 60
        }
      ],
      "source": [
        "die1 = np.random.randint(1,7, 1000000)\n",
        "die2 = np.random.randint(1,7, 1000000)\n",
        "die_sum = die1 + die2\n",
        "sum(die_sum > 7)"
      ]
    },
    {
      "cell_type": "markdown",
      "metadata": {
        "id": "lENPrvJcMFAH"
      },
      "source": [
        "# Binomial Distribution"
      ]
    },
    {
      "cell_type": "code",
      "execution_count": null,
      "metadata": {
        "id": "_hSDoLk3MFAH"
      },
      "outputs": [],
      "source": [
        "import numpy as np"
      ]
    },
    {
      "cell_type": "code",
      "execution_count": null,
      "metadata": {
        "colab": {
          "base_uri": "https://localhost:8080/"
        },
        "id": "JMrosYPcMFAH",
        "outputId": "5e3fabc7-0917-49d2-a27c-a399f91f9226"
      },
      "outputs": [
        {
          "output_type": "execute_result",
          "data": {
            "text/plain": [
              "1"
            ]
          },
          "metadata": {},
          "execution_count": 62
        }
      ],
      "source": [
        "np.random.binomial(1, 0.5)   # Fliping a single unbiased coin"
      ]
    },
    {
      "cell_type": "code",
      "execution_count": null,
      "metadata": {
        "colab": {
          "base_uri": "https://localhost:8080/"
        },
        "id": "RhKSKhh2MFAH",
        "outputId": "d2c8ad9e-1e09-491e-f88a-4d5270198af4"
      },
      "outputs": [
        {
          "output_type": "execute_result",
          "data": {
            "text/plain": [
              "1"
            ]
          },
          "metadata": {},
          "execution_count": 63
        }
      ],
      "source": [
        "np.random.binomial(2, 0.5)"
      ]
    },
    {
      "cell_type": "code",
      "execution_count": null,
      "metadata": {
        "id": "ZE2fWqXzMFAI"
      },
      "outputs": [],
      "source": [
        "two_coins = np.random.binomial(2, 0.5, 1000)"
      ]
    },
    {
      "cell_type": "code",
      "execution_count": null,
      "metadata": {
        "colab": {
          "base_uri": "https://localhost:8080/",
          "height": 434
        },
        "id": "48dxaeZNMFAI",
        "outputId": "bb6b631b-9c58-4240-fa45-3e087bb4171d"
      },
      "outputs": [
        {
          "output_type": "display_data",
          "data": {
            "text/plain": [
              "<Figure size 640x480 with 1 Axes>"
            ],
            "image/png": "[encoded data removed]"
          },
          "metadata": {}
        }
      ],
      "source": [
        "import matplotlib.pyplot as plt\n",
        "import seaborn as sns\n",
        "sns.set_theme(style=\"whitegrid\")\n",
        "# np.random.seed(555)       # By using seed you can make sure that each time you get the same numbers\n",
        "sns.countplot(x=two_coins)\n",
        "plt.show()"
      ]
    },
    {
      "cell_type": "code",
      "execution_count": null,
      "metadata": {
        "id": "PNMHJGsCMFAI"
      },
      "outputs": [],
      "source": [
        "ten_coins = np.random.binomial(10, 0.5, 1000)"
      ]
    },
    {
      "cell_type": "code",
      "execution_count": null,
      "metadata": {
        "colab": {
          "base_uri": "https://localhost:8080/",
          "height": 434
        },
        "id": "sZ1RjLfyMFAI",
        "outputId": "f5cc760a-ab8b-4caf-831e-69120492effc"
      },
      "outputs": [
        {
          "output_type": "display_data",
          "data": {
            "text/plain": [
              "<Figure size 640x480 with 1 Axes>"
            ],
            "image/png": "[encoded data removed]"
          },
          "metadata": {}
        }
      ],
      "source": [
        "# import matplotlib.pyplot as plt\n",
        "# import seaborn as sns\n",
        "# np.random.seed(555)       # By using seed you can make sure that each time you get the same numbers\n",
        "sns.set_theme(style=\"whitegrid\")\n",
        "sns.countplot(x=ten_coins)\n",
        "plt.show()"
      ]
    },
    {
      "cell_type": "markdown",
      "metadata": {
        "id": "ToDMZhpYMFAJ"
      },
      "source": [
        "### A manufacturer has 12% defects rate in production. The buyer decides to test 20 random pieces and will accept the supplier if there are 2 or less defectives. What is the probability of getting accepted?"
      ]
    },
    {
      "cell_type": "code",
      "execution_count": null,
      "metadata": {
        "id": "f_cjQXoGMFAJ"
      },
      "outputs": [],
      "source": [
        "two_rej = np.random.binomial(20, 0.12, 10)"
      ]
    },
    {
      "cell_type": "code",
      "execution_count": null,
      "metadata": {
        "scrolled": true,
        "colab": {
          "base_uri": "https://localhost:8080/"
        },
        "id": "O8rx8NceMFAJ",
        "outputId": "2e21e6df-e87d-4416-c7d7-3421844936bd"
      },
      "outputs": [
        {
          "output_type": "execute_result",
          "data": {
            "text/plain": [
              "array([3, 2, 1, 3, 5, 1, 2, 3, 2, 2])"
            ]
          },
          "metadata": {},
          "execution_count": 69
        }
      ],
      "source": [
        "two_rej"
      ]
    },
    {
      "cell_type": "code",
      "execution_count": null,
      "metadata": {
        "colab": {
          "base_uri": "https://localhost:8080/",
          "height": 434
        },
        "id": "5lD08QFHMFAJ",
        "outputId": "c643c07c-9ece-4402-9cdd-8080479ea912"
      },
      "outputs": [
        {
          "output_type": "display_data",
          "data": {
            "text/plain": [
              "<Figure size 640x480 with 1 Axes>"
            ],
            "image/png": "[encoded data removed]"
          },
          "metadata": {}
        }
      ],
      "source": [
        "two_rej = np.random.binomial(20, 0.12, 1000)\n",
        "# import matplotlib.pyplot as plt\n",
        "# import seaborn as sns\n",
        "# np.random.seed(555)       # By using seed you can make sure that each time you get the same numbers\n",
        "sns.set_theme(style=\"whitegrid\")\n",
        "sns.countplot(x=two_rej)\n",
        "plt.show()"
      ]
    },
    {
      "cell_type": "markdown",
      "metadata": {
        "id": "L_1eZyziMFAJ"
      },
      "source": [
        "# Introducing scipy"
      ]
    },
    {
      "cell_type": "markdown",
      "metadata": {
        "id": "84lRDmW1MFAK"
      },
      "source": [
        "#### This module contains a large number of probability distributions as well as a growing library of statistical functions."
      ]
    },
    {
      "cell_type": "code",
      "execution_count": null,
      "metadata": {
        "colab": {
          "base_uri": "https://localhost:8080/"
        },
        "id": "Z6-RU2EBMFAK",
        "outputId": "91a5d7fc-76c4-4921-d02f-2ac383d2abf6"
      },
      "outputs": [
        {
          "output_type": "execute_result",
          "data": {
            "text/plain": [
              "0.5631315224061946"
            ]
          },
          "metadata": {},
          "execution_count": 71
        }
      ],
      "source": [
        "from scipy.stats import binom  # we will discuss scipy.stat later in this course\n",
        "binom.cdf(2, 20, 0.12)\n",
        "# binom.cdf(k,n,p) - Cumulative distribution function - for less than or equal to 2\n",
        "# binom.pmf(k,n,p) - Probability mass function - for exact two defects\n",
        "# binom.sf(k,n,p) - for more than 2 (similar to 1-cdf)\n",
        "# binom.mean(n,p) - for mean of the distribution\n",
        "# binom.var(n,p) - for variance of the distribution\n",
        "# binom.std(n,p) - for standard deviation of the distribution"
      ]
    },
    {
      "cell_type": "code",
      "execution_count": null,
      "metadata": {
        "colab": {
          "base_uri": "https://localhost:8080/"
        },
        "id": "ubleuCsSMFAK",
        "outputId": "7c38a6c2-33a1-482c-fab5-1b2bba761972"
      },
      "outputs": [
        {
          "output_type": "execute_result",
          "data": {
            "text/plain": [
              "2.4"
            ]
          },
          "metadata": {},
          "execution_count": 72
        }
      ],
      "source": [
        "binom.mean(20, 0.12)"
      ]
    },
    {
      "cell_type": "markdown",
      "metadata": {
        "id": "pz1PCY7JMFAK"
      },
      "source": [
        "### Let's draw the probability distribution( pmf, cdf)"
      ]
    },
    {
      "cell_type": "code",
      "execution_count": null,
      "metadata": {
        "colab": {
          "base_uri": "https://localhost:8080/"
        },
        "id": "w9zzNr9vMFAK",
        "outputId": "18b44fc4-6a60-4a9a-aecb-a244a5579709"
      },
      "outputs": [
        {
          "output_type": "execute_result",
          "data": {
            "text/plain": [
              "array([ 0,  1,  2,  3,  4,  5,  6,  7,  8,  9, 10, 11, 12, 13, 14, 15, 16,\n",
              "       17, 18, 19, 20])"
            ]
          },
          "metadata": {},
          "execution_count": 73
        }
      ],
      "source": [
        "x_ax = np.arange(0, 21)\n",
        "x_ax"
      ]
    },
    {
      "cell_type": "code",
      "execution_count": null,
      "metadata": {
        "id": "E7-3-5y2MFAK"
      },
      "outputs": [],
      "source": [
        "y_ax = binom.pmf(x_ax, 20, 0.12)"
      ]
    },
    {
      "cell_type": "code",
      "execution_count": null,
      "metadata": {
        "colab": {
          "base_uri": "https://localhost:8080/",
          "height": 434
        },
        "id": "OlXDeGsTMFAL",
        "outputId": "9aace344-1ff8-4784-c7e3-d29af0a1ccc4"
      },
      "outputs": [
        {
          "output_type": "display_data",
          "data": {
            "text/plain": [
              "<Figure size 640x480 with 1 Axes>"
            ],
            "image/png": "[encoded data removed]"
          },
          "metadata": {}
        }
      ],
      "source": [
        "sns.set_theme(style=\"whitegrid\")\n",
        "sns.barplot(x=x_ax, y=y_ax)\n",
        "plt.show()"
      ]
    },
    {
      "cell_type": "code",
      "execution_count": null,
      "metadata": {
        "id": "iiYqYhXNMFAL"
      },
      "outputs": [],
      "source": [
        "y_cum = binom.cdf(x_ax, 20, 0.12)"
      ]
    },
    {
      "cell_type": "code",
      "execution_count": null,
      "metadata": {
        "colab": {
          "base_uri": "https://localhost:8080/",
          "height": 434
        },
        "id": "P9SK5pccMFAL",
        "outputId": "93a01a95-63d8-4d48-db9b-77f12e098e91"
      },
      "outputs": [
        {
          "output_type": "display_data",
          "data": {
            "text/plain": [
              "<Figure size 640x480 with 1 Axes>"
            ],
            "image/png": "[encoded data removed]"
          },
          "metadata": {}
        }
      ],
      "source": [
        "sns.set_theme(style=\"whitegrid\")\n",
        "sns.barplot(x=x_ax, y=y_cum)\n",
        "plt.show()"
      ]
    },
    {
      "cell_type": "code",
      "execution_count": null,
      "metadata": {
        "scrolled": true,
        "id": "HhhliF8fMFAL"
      },
      "outputs": [],
      "source": []
    },
    {
      "cell_type": "markdown",
      "metadata": {
        "id": "V2i6kBg-MFAL"
      },
      "source": [
        "# Poisson Distribution"
      ]
    },
    {
      "cell_type": "code",
      "execution_count": null,
      "metadata": {
        "id": "ubnfAlIVMFAM"
      },
      "outputs": [],
      "source": [
        "import numpy as np\n",
        "import matplotlib.pyplot as plt\n",
        "import seaborn as sns"
      ]
    },
    {
      "cell_type": "code",
      "execution_count": null,
      "metadata": {
        "colab": {
          "base_uri": "https://localhost:8080/"
        },
        "id": "XewHPEHMMFAM",
        "outputId": "e37cb726-660c-4918-edd9-5c34fa3e611a"
      },
      "outputs": [
        {
          "output_type": "execute_result",
          "data": {
            "text/plain": [
              "7"
            ]
          },
          "metadata": {},
          "execution_count": 79
        }
      ],
      "source": [
        "np.random.poisson(3.6)  #with lamba=3.6"
      ]
    },
    {
      "cell_type": "code",
      "execution_count": null,
      "metadata": {
        "colab": {
          "base_uri": "https://localhost:8080/"
        },
        "id": "vLcrrQ5tMFAM",
        "outputId": "c20f39f0-a5de-4fbb-eea8-e79099e39339"
      },
      "outputs": [
        {
          "output_type": "execute_result",
          "data": {
            "text/plain": [
              "array([3, 2, 5, 5, 4, 1, 4, 4, 1, 4])"
            ]
          },
          "metadata": {},
          "execution_count": 80
        }
      ],
      "source": [
        "np.random.poisson(3.6, 10)  #with lamba=3.6"
      ]
    },
    {
      "cell_type": "code",
      "execution_count": null,
      "metadata": {
        "id": "puvG6T_oMFAM"
      },
      "outputs": [],
      "source": [
        "q_size = np.random.poisson(3.6, 1000)"
      ]
    },
    {
      "cell_type": "code",
      "execution_count": null,
      "metadata": {
        "scrolled": true,
        "colab": {
          "base_uri": "https://localhost:8080/",
          "height": 434
        },
        "id": "vm2dFuclMFAM",
        "outputId": "062d9ba6-f957-479e-f5e5-3ffc85207137"
      },
      "outputs": [
        {
          "output_type": "display_data",
          "data": {
            "text/plain": [
              "<Figure size 640x480 with 1 Axes>"
            ],
            "image/png": "[encoded data removed]"
          },
          "metadata": {}
        }
      ],
      "source": [
        "sns.set_theme(style=\"whitegrid\")\n",
        "sns.countplot(x=q_size)\n",
        "plt.show()\n",
        "# We calculated the probability of getting 7 people in the que as 0.0424"
      ]
    },
    {
      "cell_type": "markdown",
      "metadata": {
        "id": "6vKEThuWMFAN"
      },
      "source": [
        "# scipy"
      ]
    },
    {
      "cell_type": "code",
      "execution_count": null,
      "metadata": {
        "scrolled": true,
        "id": "PtoQo0d-MFAN"
      },
      "outputs": [],
      "source": [
        "import numpy as np\n",
        "import matplotlib.pyplot as plt\n",
        "import seaborn as sns\n",
        "from scipy.stats import poisson\n",
        "\n",
        "\n",
        "# we will discuss scipy.stat later in this course\n",
        "\n",
        "# poisson.cdf(k,mu) - Cumulative distribution function - for less than or equal to\n",
        "# poisson.pmf(k,mu) - Probability mass function - for exact value\n",
        "# poisson.sf(k,mu) - for more than (similar to 1-cdf)\n",
        "# poisson.mean(mu) - for mean of the distribution\n",
        "# poisson.var(mu) - for variance of the distribution\n",
        "# poisson.std(mu) - for standard deviation of the distribution"
      ]
    },
    {
      "cell_type": "code",
      "execution_count": null,
      "metadata": {
        "colab": {
          "base_uri": "https://localhost:8080/"
        },
        "id": "hkypf8xKMFAN",
        "outputId": "82185dc2-784d-46fb-b1f0-db0c02719beb"
      },
      "outputs": [
        {
          "output_type": "execute_result",
          "data": {
            "text/plain": [
              "0.04248414026930935"
            ]
          },
          "metadata": {},
          "execution_count": 84
        }
      ],
      "source": [
        "poisson.pmf(7, 3.6)  #we calculated it as 0.0424 in the previous video"
      ]
    },
    {
      "cell_type": "code",
      "execution_count": null,
      "metadata": {
        "colab": {
          "base_uri": "https://localhost:8080/"
        },
        "id": "H8UJvwqrMFAN",
        "outputId": "80122ea7-318c-495f-9898-666b28116dbc"
      },
      "outputs": [
        {
          "output_type": "execute_result",
          "data": {
            "text/plain": [
              "3.6"
            ]
          },
          "metadata": {},
          "execution_count": 85
        }
      ],
      "source": [
        "poisson.mean(3.6)"
      ]
    },
    {
      "cell_type": "code",
      "execution_count": null,
      "metadata": {
        "colab": {
          "base_uri": "https://localhost:8080/"
        },
        "id": "tGinfN8XMFAN",
        "outputId": "7a176f7e-78cf-43a1-d11b-1bc1e65cd9df"
      },
      "outputs": [
        {
          "output_type": "execute_result",
          "data": {
            "text/plain": [
              "3.6"
            ]
          },
          "metadata": {},
          "execution_count": 86
        }
      ],
      "source": [
        "poisson.var(3.6)"
      ]
    },
    {
      "cell_type": "code",
      "execution_count": null,
      "metadata": {
        "colab": {
          "base_uri": "https://localhost:8080/"
        },
        "id": "CGTvlydPMFAO",
        "outputId": "42e7b9e2-946d-4c8f-d7d3-f6fb2a7d9c7a"
      },
      "outputs": [
        {
          "output_type": "execute_result",
          "data": {
            "text/plain": [
              "1.8973665961010275"
            ]
          },
          "metadata": {},
          "execution_count": 87
        }
      ],
      "source": [
        "poisson.std(3.6)"
      ]
    },
    {
      "cell_type": "code",
      "execution_count": null,
      "metadata": {
        "colab": {
          "base_uri": "https://localhost:8080/"
        },
        "id": "jEXIhrmbMFAO",
        "outputId": "7096f257-8b5d-4a08-bedb-6563aeafacd5"
      },
      "outputs": [
        {
          "output_type": "execute_result",
          "data": {
            "text/plain": [
              "array([ 0,  1,  2,  3,  4,  5,  6,  7,  8,  9, 10])"
            ]
          },
          "metadata": {},
          "execution_count": 88
        }
      ],
      "source": [
        "x_ax = np.arange(0,11)\n",
        "x_ax"
      ]
    },
    {
      "cell_type": "code",
      "execution_count": null,
      "metadata": {
        "id": "qLOKUPW5MFAO"
      },
      "outputs": [],
      "source": [
        "y_ax = poisson.pmf(x_ax, 3.6)"
      ]
    },
    {
      "cell_type": "code",
      "execution_count": null,
      "metadata": {
        "scrolled": true,
        "colab": {
          "base_uri": "https://localhost:8080/",
          "height": 434
        },
        "id": "nTbjdv4XMFAO",
        "outputId": "00f92aa7-2c5e-4c51-9986-897fdc1527ce"
      },
      "outputs": [
        {
          "output_type": "display_data",
          "data": {
            "text/plain": [
              "<Figure size 640x480 with 1 Axes>"
            ],
            "image/png": "[encoded data removed]"
          },
          "metadata": {}
        }
      ],
      "source": [
        "sns.set_theme(style=\"whitegrid\")\n",
        "sns.barplot(x=x_ax, y=y_ax)\n",
        "plt.show()"
      ]
    },
    {
      "cell_type": "code",
      "execution_count": null,
      "metadata": {
        "id": "39Zoxn3LMFAO"
      },
      "outputs": [],
      "source": [
        "y_ax = poisson.cdf(x_ax, 3.6)"
      ]
    },
    {
      "cell_type": "code",
      "execution_count": null,
      "metadata": {
        "colab": {
          "base_uri": "https://localhost:8080/",
          "height": 434
        },
        "id": "qyaoS1WUMFAO",
        "outputId": "5485930d-acbd-4c88-ffc8-f97e2250ea58"
      },
      "outputs": [
        {
          "output_type": "display_data",
          "data": {
            "text/plain": [
              "<Figure size 640x480 with 1 Axes>"
            ],
            "image/png": "[encoded data removed]"
          },
          "metadata": {}
        }
      ],
      "source": [
        "sns.set_theme(style=\"whitegrid\")\n",
        "sns.barplot(x=x_ax, y=y_ax)\n",
        "plt.show()"
      ]
    },
    {
      "cell_type": "code",
      "execution_count": null,
      "metadata": {
        "id": "ASv05nwCMFAP"
      },
      "outputs": [],
      "source": []
    },
    {
      "cell_type": "code",
      "execution_count": null,
      "metadata": {
        "id": "UQQMuAnHMFAP"
      },
      "outputs": [],
      "source": []
    },
    {
      "cell_type": "markdown",
      "metadata": {
        "id": "Q9bqAU2KMFAP"
      },
      "source": [
        "# Normal Distribution"
      ]
    },
    {
      "cell_type": "markdown",
      "metadata": {
        "id": "iK_AL8iCMFAP"
      },
      "source": [
        "We will discuss probability distribution later in this course in more details. At this stage just focus on the fact that we can draw random sample based on various distributions."
      ]
    },
    {
      "cell_type": "code",
      "execution_count": null,
      "metadata": {
        "id": "9sIyqxpxMFAP"
      },
      "outputs": [],
      "source": [
        "import numpy as np\n",
        "import matplotlib.pyplot as plt\n",
        "import seaborn as sns"
      ]
    },
    {
      "cell_type": "code",
      "execution_count": null,
      "metadata": {
        "scrolled": true,
        "colab": {
          "base_uri": "https://localhost:8080/"
        },
        "id": "qcefPYbxMFAP",
        "outputId": "6c6efbb1-1e2c-49a8-c15c-25f3a8299742"
      },
      "outputs": [
        {
          "output_type": "execute_result",
          "data": {
            "text/plain": [
              "103.38813792001106"
            ]
          },
          "metadata": {},
          "execution_count": 94
        }
      ],
      "source": [
        "np.random.normal(100, 2)     #Random sample from a Normal Distribution with Mean = 100 and sd = 2"
      ]
    },
    {
      "cell_type": "code",
      "execution_count": null,
      "metadata": {
        "scrolled": false,
        "colab": {
          "base_uri": "https://localhost:8080/"
        },
        "id": "z1ImaSKgMFAP",
        "outputId": "f9d0f47d-10d1-4f5f-b73c-99b6d4e981d0"
      },
      "outputs": [
        {
          "output_type": "execute_result",
          "data": {
            "text/plain": [
              "array([103.164303  , 102.26001614, 102.63055216,  96.65137607,\n",
              "       100.21293657, 100.48905587,  99.61186736,  99.05034266,\n",
              "        99.1288425 ,  99.31051644])"
            ]
          },
          "metadata": {},
          "execution_count": 95
        }
      ],
      "source": [
        "np.random.normal(100, 2, 10)  # Get me 10 samples"
      ]
    },
    {
      "cell_type": "code",
      "execution_count": null,
      "metadata": {
        "colab": {
          "base_uri": "https://localhost:8080/"
        },
        "id": "v0gyZhh1MFAQ",
        "outputId": "afa8e6de-0f74-4995-d19a-f6feb3db375f"
      },
      "outputs": [
        {
          "output_type": "execute_result",
          "data": {
            "text/plain": [
              "array([ 97.24,  96.33,  99.04,  99.37, 102.21, 100.75,  98.89,  97.8 ,\n",
              "        99.38, 101.02])"
            ]
          },
          "metadata": {},
          "execution_count": 96
        }
      ],
      "source": [
        "np.round(np.random.normal(100, 2, 10), 2)"
      ]
    },
    {
      "cell_type": "code",
      "execution_count": null,
      "metadata": {
        "scrolled": true,
        "colab": {
          "base_uri": "https://localhost:8080/",
          "height": 434
        },
        "id": "6q5FMJvQMFAQ",
        "outputId": "e1ec5ada-081f-4c43-a22c-c812fa3d9624"
      },
      "outputs": [
        {
          "output_type": "display_data",
          "data": {
            "text/plain": [
              "<Figure size 640x480 with 1 Axes>"
            ],
            "image/png": "[encoded data removed]"
          },
          "metadata": {}
        }
      ],
      "source": [
        "sns.set_theme(style=\"whitegrid\")\n",
        "a = np.random.normal(100,2, 1000)\n",
        "sns.histplot(x=a)\n",
        "plt.show()"
      ]
    },
    {
      "cell_type": "code",
      "execution_count": null,
      "metadata": {
        "colab": {
          "base_uri": "https://localhost:8080/",
          "height": 434
        },
        "id": "K_BHLGF2MFAQ",
        "outputId": "4f3c5054-af74-4467-8405-5b5c9baa20c4"
      },
      "outputs": [
        {
          "output_type": "display_data",
          "data": {
            "text/plain": [
              "<Figure size 640x480 with 1 Axes>"
            ],
            "image/png": "[encoded data removed]"
          },
          "metadata": {}
        }
      ],
      "source": [
        "sns.set_theme(style=\"whitegrid\")\n",
        "a = np.random.normal(100,2, 1000000)\n",
        "sns.histplot(x=a, kde=True)\n",
        "plt.show()"
      ]
    },
    {
      "cell_type": "code",
      "execution_count": null,
      "metadata": {
        "scrolled": true,
        "colab": {
          "base_uri": "https://localhost:8080/"
        },
        "id": "dvbxqBBXMFAQ",
        "outputId": "54a65150-0805-4c57-8c87-ac797e1ff11f"
      },
      "outputs": [
        {
          "output_type": "execute_result",
          "data": {
            "text/plain": [
              "841371"
            ]
          },
          "metadata": {},
          "execution_count": 99
        }
      ],
      "source": [
        "sum(a > 98)"
      ]
    },
    {
      "cell_type": "code",
      "execution_count": null,
      "metadata": {
        "colab": {
          "base_uri": "https://localhost:8080/"
        },
        "id": "e0-V29BbMFAQ",
        "outputId": "f5d4460e-1365-4981-be97-23e9edeaff63"
      },
      "outputs": [
        {
          "output_type": "execute_result",
          "data": {
            "text/plain": [
              "682592"
            ]
          },
          "metadata": {},
          "execution_count": 100
        }
      ],
      "source": [
        "sum((a > 98) & (a < 102))"
      ]
    },
    {
      "cell_type": "code",
      "execution_count": null,
      "metadata": {
        "colab": {
          "base_uri": "https://localhost:8080/"
        },
        "id": "mttiP4QWMFAR",
        "outputId": "58e81d9d-2f1c-48ec-b77b-0cf5ca2a42e3"
      },
      "outputs": [
        {
          "output_type": "execute_result",
          "data": {
            "text/plain": [
              "954318"
            ]
          },
          "metadata": {},
          "execution_count": 101
        }
      ],
      "source": [
        "sum((a > 96) & (a < 104))"
      ]
    },
    {
      "cell_type": "code",
      "execution_count": null,
      "metadata": {
        "scrolled": true,
        "colab": {
          "base_uri": "https://localhost:8080/"
        },
        "id": "r6_WHpEPMFAR",
        "outputId": "82a0e70b-3271-46ac-a582-56c4ee4a8e5f"
      },
      "outputs": [
        {
          "output_type": "execute_result",
          "data": {
            "text/plain": [
              "997253"
            ]
          },
          "metadata": {},
          "execution_count": 102
        }
      ],
      "source": [
        "sum((a > 94) & (a < 106))"
      ]
    },
    {
      "cell_type": "markdown",
      "metadata": {
        "id": "jjllfpXBMFAR"
      },
      "source": [
        "## SciPy"
      ]
    },
    {
      "cell_type": "code",
      "execution_count": null,
      "metadata": {
        "id": "lXSVgBoVMFAR"
      },
      "outputs": [],
      "source": [
        "import numpy as np\n",
        "import matplotlib.pyplot as plt\n",
        "import seaborn as sns\n",
        "from scipy.stats import norm"
      ]
    },
    {
      "cell_type": "markdown",
      "metadata": {
        "id": "0bB3GIm3MFAR"
      },
      "source": [
        "### Question: Perfume bottles are filled with the average volume of 150 cc and the standard deviation of 2 cc. What percent of bottles will have a volume greater than 153 cc?"
      ]
    },
    {
      "cell_type": "code",
      "execution_count": null,
      "metadata": {
        "colab": {
          "base_uri": "https://localhost:8080/"
        },
        "id": "d_dLA9nJMFAS",
        "outputId": "c6c7d536-1eea-4c36-9e1a-e89c2fd2ddca"
      },
      "outputs": [
        {
          "output_type": "execute_result",
          "data": {
            "text/plain": [
              "0.06680720126885807"
            ]
          },
          "metadata": {},
          "execution_count": 104
        }
      ],
      "source": [
        "norm.sf(153, 150, 2)"
      ]
    },
    {
      "cell_type": "markdown",
      "metadata": {
        "id": "tAlI2HgDMFAS"
      },
      "source": [
        "### Question: Perfume bottles are filled with the average volume of 150 cc and the standard deviation of 2 cc. What percent of bottles will have a volume between 148 and 152 cc?"
      ]
    },
    {
      "cell_type": "code",
      "execution_count": null,
      "metadata": {
        "colab": {
          "base_uri": "https://localhost:8080/"
        },
        "id": "ZhSvwOZcMFAS",
        "outputId": "31ca2825-5d11-4736-99e4-e7c8d69cac2c"
      },
      "outputs": [
        {
          "output_type": "execute_result",
          "data": {
            "text/plain": [
              "0.6826894921370859"
            ]
          },
          "metadata": {},
          "execution_count": 105
        }
      ],
      "source": [
        "norm.sf(148, 150, 2) - norm.sf(152, 150, 2)"
      ]
    },
    {
      "cell_type": "code",
      "execution_count": null,
      "metadata": {
        "id": "E9aVhGGmMFAS"
      },
      "outputs": [],
      "source": [
        "# norm.cdf(x,mu,sigma) - Cumulative distribution function - for less than or equal to\n",
        "# norm.pdf(x,mu,sigma) - Probability density function (not Probability mass function) - for exact value\n",
        "# norm.sf(x,mu,sigma) - for more than (similar to 1-cdf)\n",
        "# norm.mean(mu) - for mean of the distribution\n",
        "# norm.var(mu) - for variance of the distribution\n",
        "# norm.std(mu) - for standard deviation of the distribution"
      ]
    },
    {
      "cell_type": "code",
      "execution_count": null,
      "metadata": {
        "colab": {
          "base_uri": "https://localhost:8080/"
        },
        "id": "ILzM8IJZMFAS",
        "outputId": "9a85b3e8-1741-429e-9f3e-2240e1995687"
      },
      "outputs": [
        {
          "output_type": "execute_result",
          "data": {
            "text/plain": [
              "array([144., 145., 146., 147., 148., 149., 150., 151., 152., 153., 154.,\n",
              "       155., 156.])"
            ]
          },
          "metadata": {},
          "execution_count": 107
        }
      ],
      "source": [
        "x_ax = np.linspace(144,156, 13)\n",
        "x_ax"
      ]
    },
    {
      "cell_type": "code",
      "execution_count": null,
      "metadata": {
        "id": "-OoJ2ooCMFAS"
      },
      "outputs": [],
      "source": [
        "y_ax = norm.pdf(x_ax, 150, 2)"
      ]
    },
    {
      "cell_type": "code",
      "execution_count": null,
      "metadata": {
        "colab": {
          "base_uri": "https://localhost:8080/",
          "height": 434
        },
        "id": "xFxvmQSkMFAS",
        "outputId": "61d83fcd-78e4-437f-b873-3fda66b78c62"
      },
      "outputs": [
        {
          "output_type": "display_data",
          "data": {
            "text/plain": [
              "<Figure size 640x480 with 1 Axes>"
            ],
            "image/png": "[encoded data removed]"
          },
          "metadata": {}
        }
      ],
      "source": [
        "sns.lineplot(x=x_ax, y=y_ax)\n",
        "plt.show()"
      ]
    },
    {
      "cell_type": "code",
      "execution_count": null,
      "metadata": {
        "colab": {
          "base_uri": "https://localhost:8080/",
          "height": 434
        },
        "id": "bTxji3lxMFAT",
        "outputId": "cbac2e7b-789a-4f5b-90ee-4736f751aa5b"
      },
      "outputs": [
        {
          "output_type": "display_data",
          "data": {
            "text/plain": [
              "<Figure size 640x480 with 1 Axes>"
            ],
            "image/png": "[encoded data removed]"
          },
          "metadata": {}
        }
      ],
      "source": [
        "x_ax = np.linspace(144,156, 1300)\n",
        "y_ax = norm.pdf(x_ax, 150, 2)\n",
        "sns.lineplot(x=x_ax, y=y_ax)\n",
        "plt.axvline(152, color='red')\n",
        "plt.show()"
      ]
    },
    {
      "cell_type": "code",
      "execution_count": null,
      "metadata": {
        "id": "CbzctOnvMFAT"
      },
      "outputs": [],
      "source": []
    },
    {
      "cell_type": "markdown",
      "metadata": {
        "id": "N3ohRQYoMFAT"
      },
      "source": [
        "# Descriptive Statistical Using NumPy"
      ]
    },
    {
      "cell_type": "code",
      "execution_count": null,
      "metadata": {
        "id": "yolXJT02MFAT"
      },
      "outputs": [],
      "source": [
        "import statistics\n",
        "import numpy as np\n",
        "import scipy.stats as stats"
      ]
    },
    {
      "cell_type": "code",
      "execution_count": null,
      "metadata": {
        "id": "Ez4eh85ZMFAT"
      },
      "outputs": [],
      "source": [
        "li = [1, 2, 3, 3]"
      ]
    },
    {
      "cell_type": "code",
      "execution_count": null,
      "metadata": {
        "scrolled": true,
        "colab": {
          "base_uri": "https://localhost:8080/"
        },
        "id": "Vr6mu4uMMFAT",
        "outputId": "5ab4dbed-02b8-4685-acf3-3191c9cf376b"
      },
      "outputs": [
        {
          "output_type": "execute_result",
          "data": {
            "text/plain": [
              "2.25"
            ]
          },
          "metadata": {},
          "execution_count": 113
        }
      ],
      "source": [
        "statistics.mean(li)"
      ]
    },
    {
      "cell_type": "code",
      "execution_count": null,
      "metadata": {
        "colab": {
          "base_uri": "https://localhost:8080/"
        },
        "id": "2l9iEfGdMFAU",
        "outputId": "3db67903-e6b2-4326-ad90-3289773d57b7"
      },
      "outputs": [
        {
          "output_type": "execute_result",
          "data": {
            "text/plain": [
              "2.5"
            ]
          },
          "metadata": {},
          "execution_count": 114
        }
      ],
      "source": [
        "statistics.median(li)"
      ]
    },
    {
      "cell_type": "code",
      "execution_count": null,
      "metadata": {
        "colab": {
          "base_uri": "https://localhost:8080/"
        },
        "id": "qdlmCyLOMFAU",
        "outputId": "ff4635bc-2d2b-4e64-8a1b-08f403c6c25f"
      },
      "outputs": [
        {
          "output_type": "execute_result",
          "data": {
            "text/plain": [
              "2.25"
            ]
          },
          "metadata": {},
          "execution_count": 115
        }
      ],
      "source": [
        "np.mean(li)"
      ]
    },
    {
      "cell_type": "code",
      "execution_count": null,
      "metadata": {
        "colab": {
          "base_uri": "https://localhost:8080/"
        },
        "id": "nEPZ3Bd5MFAU",
        "outputId": "65f6d0b9-68c5-4ce6-9003-29b02210b7c5"
      },
      "outputs": [
        {
          "output_type": "execute_result",
          "data": {
            "text/plain": [
              "2.5"
            ]
          },
          "metadata": {},
          "execution_count": 117
        }
      ],
      "source": [
        "np.median(li)"
      ]
    },
    {
      "cell_type": "code",
      "execution_count": null,
      "metadata": {
        "colab": {
          "base_uri": "https://localhost:8080/"
        },
        "id": "Z_CZzYpmMFAU",
        "outputId": "84a5b864-c0a8-4486-ed21-e67df54fb9d2"
      },
      "outputs": [
        {
          "output_type": "execute_result",
          "data": {
            "text/plain": [
              "0.82915619758885"
            ]
          },
          "metadata": {},
          "execution_count": 119
        }
      ],
      "source": [
        "np.std(li)"
      ]
    },
    {
      "cell_type": "code",
      "execution_count": null,
      "metadata": {
        "colab": {
          "base_uri": "https://localhost:8080/"
        },
        "id": "rWyyeg2WMFAU",
        "outputId": "898f64b2-45eb-435d-d66c-2766f9405584"
      },
      "outputs": [
        {
          "output_type": "execute_result",
          "data": {
            "text/plain": [
              "0.6875"
            ]
          },
          "metadata": {},
          "execution_count": 120
        }
      ],
      "source": [
        "np.var(li)"
      ]
    },
    {
      "cell_type": "code",
      "execution_count": null,
      "metadata": {
        "colab": {
          "base_uri": "https://localhost:8080/"
        },
        "id": "XkXR-taYMFAV",
        "outputId": "5cadcd2f-5914-4afa-cc86-dc82c6df6cbc"
      },
      "outputs": [
        {
          "output_type": "execute_result",
          "data": {
            "text/plain": [
              "ModeResult(mode=3, count=2)"
            ]
          },
          "metadata": {},
          "execution_count": 121
        }
      ],
      "source": [
        "stats.mode(li)"
      ]
    },
    {
      "cell_type": "code",
      "execution_count": null,
      "metadata": {
        "colab": {
          "base_uri": "https://localhost:8080/"
        },
        "id": "S__IjpvBMFAV",
        "outputId": "8c035a95-6583-48e9-fc94-4bf2e209d9ab"
      },
      "outputs": [
        {
          "output_type": "execute_result",
          "data": {
            "text/plain": [
              "array([ 7, 17,  6, 17,  6,  1, 17,  6, 15, 17,  5,  0,  0, 17,  7,  7,  0,\n",
              "        1, 15,  8])"
            ]
          },
          "metadata": {},
          "execution_count": 124
        }
      ],
      "source": [
        "one_d = np.random.randint(0, 20, 20)\n",
        "one_d"
      ]
    },
    {
      "cell_type": "code",
      "execution_count": null,
      "metadata": {
        "colab": {
          "base_uri": "https://localhost:8080/"
        },
        "id": "yUxQu0hHMFAV",
        "outputId": "72c22f2e-487f-4a87-854a-f6e43e6bcf54"
      },
      "outputs": [
        {
          "output_type": "execute_result",
          "data": {
            "text/plain": [
              "(20,)"
            ]
          },
          "metadata": {},
          "execution_count": 125
        }
      ],
      "source": [
        "one_d.shape"
      ]
    },
    {
      "cell_type": "code",
      "execution_count": null,
      "metadata": {
        "id": "r2Q2kol6MFAV"
      },
      "outputs": [],
      "source": [
        "two_d = one_d.reshape(4, 5)"
      ]
    },
    {
      "cell_type": "code",
      "execution_count": null,
      "metadata": {
        "colab": {
          "base_uri": "https://localhost:8080/"
        },
        "id": "TpWxIPB5MFAV",
        "outputId": "fa3dc457-7043-4715-ac45-5e48d159567a"
      },
      "outputs": [
        {
          "output_type": "execute_result",
          "data": {
            "text/plain": [
              "array([[ 7, 17,  6, 17,  6],\n",
              "       [ 1, 17,  6, 15, 17],\n",
              "       [ 5,  0,  0, 17,  7],\n",
              "       [ 7,  0,  1, 15,  8]])"
            ]
          },
          "metadata": {},
          "execution_count": 128
        }
      ],
      "source": [
        "two_d"
      ]
    },
    {
      "cell_type": "code",
      "execution_count": null,
      "metadata": {
        "colab": {
          "base_uri": "https://localhost:8080/"
        },
        "id": "nBXTTGNxMFAV",
        "outputId": "41433365-b0fc-4be0-aca6-2a66420e59df"
      },
      "outputs": [
        {
          "output_type": "execute_result",
          "data": {
            "text/plain": [
              "8.45"
            ]
          },
          "metadata": {},
          "execution_count": 130
        }
      ],
      "source": [
        "np.mean(two_d)"
      ]
    },
    {
      "cell_type": "code",
      "execution_count": null,
      "metadata": {
        "colab": {
          "base_uri": "https://localhost:8080/"
        },
        "id": "lqGtB9jEMFAW",
        "outputId": "427ee1f8-813e-4fdf-9392-103e3c1817f3"
      },
      "outputs": [
        {
          "output_type": "execute_result",
          "data": {
            "text/plain": [
              "array([ 5.  ,  8.5 ,  3.25, 16.  ,  9.5 ])"
            ]
          },
          "metadata": {},
          "execution_count": 131
        }
      ],
      "source": [
        "np.mean(two_d, axis = 0)"
      ]
    },
    {
      "cell_type": "code",
      "execution_count": null,
      "metadata": {
        "colab": {
          "base_uri": "https://localhost:8080/"
        },
        "id": "Uf8REqSCMFAW",
        "outputId": "78b42f40-72ce-454e-d66c-177101ea022f"
      },
      "outputs": [
        {
          "output_type": "execute_result",
          "data": {
            "text/plain": [
              "array([10.6, 11.2,  5.8,  6.2])"
            ]
          },
          "metadata": {},
          "execution_count": 132
        }
      ],
      "source": [
        "np.mean(two_d, axis = 1)"
      ]
    },
    {
      "cell_type": "code",
      "execution_count": null,
      "metadata": {
        "id": "-6oGyu9UMFAW"
      },
      "outputs": [],
      "source": []
    },
    {
      "cell_type": "code",
      "execution_count": null,
      "metadata": {
        "colab": {
          "base_uri": "https://localhost:8080/"
        },
        "id": "5cdvX0NwMFAW",
        "outputId": "49409d51-0fe4-48ed-d66a-80acb88b1617"
      },
      "outputs": [
        {
          "output_type": "execute_result",
          "data": {
            "text/plain": [
              "array([[1, 2, 3],\n",
              "       [4, 5, 6],\n",
              "       [7, 8, 9]])"
            ]
          },
          "metadata": {},
          "execution_count": 133
        }
      ],
      "source": [
        "one_d = np.array([1, 2, 3, 4, 5, 6, 7, 8, 9])\n",
        "\n",
        "two_d = one_d.reshape(3, 3)\n",
        "two_d"
      ]
    }
  ],
  "metadata": {
    "kernelspec": {
      "display_name": "Python 3",
      "language": "python",
      "name": "python3"
    },
    "language_info": {
      "codemirror_mode": {
        "name": "ipython",
        "version": 3
      },
      "file_extension": ".py",
      "mimetype": "text/x-python",
      "name": "python",
      "nbconvert_exporter": "python",
      "pygments_lexer": "ipython3",
      "version": "3.8.5"
    },
    "colab": {
      "provenance": []
    }
  },
  "nbformat": 4,
  "nbformat_minor": 0
}